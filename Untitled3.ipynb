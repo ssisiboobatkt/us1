{
 "cells": [
  {
   "cell_type": "code",
   "execution_count": 3,
   "metadata": {},
   "outputs": [],
   "source": [
    "import requests\n",
    "\n",
    "url = 'https://awoiaf.westeros.org/index.php/List_of_characters'\n",
    "r = requests.get(url)\n",
    "\n",
    "text = r.text"
   ]
  },
  {
   "cell_type": "code",
   "execution_count": 4,
   "metadata": {},
   "outputs": [
    {
     "name": "stdout",
     "output_type": "stream",
     "text": [
      "length of the pages is 2118\n"
     ]
    }
   ],
   "source": [
    "from bs4 import BeautifulSoup\n",
    "\n",
    "soup = BeautifulSoup(text, 'lxml')\n",
    "\n",
    "links = soup.find_all('a') # <a href='url'>text<\\a>\n",
    "\n",
    "#It allows us to write all characters\n",
    "pages = []\n",
    "\n",
    "for link in links:\n",
    "    what_we_want = set(['title', 'href'])\n",
    "    what_there_is = set(link.attrs.keys())\n",
    "    # take link between characters\n",
    "    if what_we_want == what_there_is:\n",
    "        pages.append((link['href'],link['href'].split('/')[-1]))\n",
    "        \n",
    "# remove the last 5 pages\n",
    "pages = pages[:-5]\n",
    "#remove the duplicate\n",
    "pages = set(pages)\n",
    "print('length of the pages is', len(pages))"
   ]
  },
  {
   "cell_type": "code",
   "execution_count": 5,
   "metadata": {},
   "outputs": [
    {
     "name": "stdout",
     "output_type": "stream",
     "text": [
      "/index.php/Aegon_V_Targaryen\n"
     ]
    }
   ],
   "source": [
    "for href, name in pages: \n",
    "    if name =='Aegon_V_Targaryen':\n",
    "        print(href)\n",
    "        r = requests.get('https://awoiaf.westeros.org' + href)\n",
    "        with open(name+'.html', 'w+', encoding = 'utf-8') as fp:\n",
    "            fp.write(r.text)"
   ]
  },
  {
   "cell_type": "code",
   "execution_count": 18,
   "metadata": {},
   "outputs": [
    {
     "data": {
      "text/plain": [
       "'Aegon V'"
      ]
     },
     "execution_count": 18,
     "metadata": {},
     "output_type": "execute_result"
    }
   ],
   "source": [
    "with open('Aegon_V_Targaryen.html', 'r', encoding = 'utf-8') as fp: \n",
    "    html = fp.read()\n",
    "soup = BeautifulSoup(html, 'lxml')\n",
    "\n",
    "soup.find(\"table\", class_=\"infobox\").b.text"
   ]
  },
  {
   "cell_type": "code",
   "execution_count": 25,
   "metadata": {},
   "outputs": [],
   "source": [
    "# save the tbody\n",
    "#tbody is a class of HTML (in the infobox)\n",
    "tbody = soup.find(\"table\", class_=\"infobox\").tbody\n",
    "\n",
    "# take all the row in the tbody \n",
    "rows = tbody.find_all(\"tr\")\n",
    "\n",
    "\n",
    "for row in rows:\n",
    " \n",
    "    for child in row.children: \n",
    "        if child.name =='th': #here, th = full name, td = the name\n",
    "            if row.th.text == 'Full Name': # get the td (the name)\n",
    "                name = row.td.text\n",
    "            if row.th.text == 'Alias': # get the td (the name)\n",
    "                alias = row.td.text"
   ]
  },
  {
   "cell_type": "code",
   "execution_count": 37,
   "metadata": {},
   "outputs": [
    {
     "name": "stdout",
     "output_type": "stream",
     "text": [
      "\n",
      "Aegon the Unlikely, Aegon the Fortunate, Egg, The Prince Who Was An Egg\n",
      "['Aegon the Unlikely', 'Aegon the Fortunate', 'Egg', 'The Prince Who Was An Egg']\n"
     ]
    }
   ],
   "source": [
    "import re\n",
    "\n",
    "#if a lower casse letter is immediately follow by a upper casse letter\n",
    "regex = r\"([a-z])([A-Z])\"\n",
    "subst = \"\\\\1, \\\\2\"\n",
    "\n",
    "result = re.sub(regex, subst, alias)\n",
    "print(result)\n",
    "\n",
    "#put the data in a array, ready to be used\n",
    "print([t.strip() for t in result.split(',')])"
   ]
  },
  {
   "cell_type": "code",
   "execution_count": 38,
   "metadata": {},
   "outputs": [
    {
     "name": "stdout",
     "output_type": "stream",
     "text": [
      "\n",
      "The World of Ice & Fire (mentioned)The Hedge Knight (appears)The Sworn Sword (appears)The Mystery Knight (appears)A Game of Thrones (mentioned)A Clash of Kings (mentioned)A Storm of Swords (mentioned)A Feast for Crows (mentioned)A Dance with Dragons (mentioned)\n",
      "\n",
      "The World of Ice & Fire ,The Hedge Knight ,The Sworn Sword ,The Mystery Knight ,A Game of Thrones ,A Clash of Kings ,A Storm of Swords ,A Feast for Crows ,A Dance with Dragons ,\n",
      "['The World of Ice & Fire', 'The Hedge Knight', 'The Sworn Sword', 'The Mystery Knight', 'A Game of Thrones', 'A Clash of Kings', 'A Storm of Swords', 'A Feast for Crows', 'A Dance with Dragons', '']\n"
     ]
    }
   ],
   "source": [
    "for row in rows:\n",
    "    for child in row.children: \n",
    "        if child.name =='th': \n",
    "            if row.th.text == 'Books': \n",
    "                books = row.td.text\n",
    "print(books)\n",
    "\n",
    "#delete the \"()\" and split the data \n",
    "import re\n",
    "\n",
    "regex = r\"\\([a-zA-Z]+\\)\"\n",
    "subst = \",\"\n",
    "\n",
    "result = re.sub(regex, subst, books)\n",
    "print(result)\n",
    "\n",
    "#put the data in a array, ready to be used\n",
    "print([t.strip() for t in result.split(',')])"
   ]
  }
 ],
 "metadata": {
  "kernelspec": {
   "display_name": "Python 3",
   "language": "python",
   "name": "python3"
  },
  "language_info": {
   "codemirror_mode": {
    "name": "ipython",
    "version": 3
   },
   "file_extension": ".py",
   "mimetype": "text/x-python",
   "name": "python",
   "nbconvert_exporter": "python",
   "pygments_lexer": "ipython3",
   "version": "3.7.0"
  }
 },
 "nbformat": 4,
 "nbformat_minor": 2
}
