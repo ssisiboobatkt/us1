{
 "cells": [
  {
   "cell_type": "code",
   "execution_count": 37,
   "metadata": {},
   "outputs": [],
   "source": [
    "data = \"\"\"\n",
    "    Alabama\t4%\t13.5%\n",
    "    Alaska\t0%\t7%\n",
    "    Arizona\t5.6%\t10.725%\n",
    "    Arkansas\t6.5%\t11.625%\t1.5%+\n",
    "    California\t7.25%\t10.25%\n",
    "    Colorado\t2.9%\t10%\n",
    "    Connecticut\t6.35%\t6.35%\t\t\t\t\t\t1%\n",
    "    Delaware\t0%\t0%\n",
    "    District of Columbia\t5.75%\t5.75%\t\t10%\n",
    "    Florida\t6%\t7.5%\t\t9% (max)\n",
    "    Georgia\t4%\t8%\t4% (max)[40]\n",
    "    Guam\t4%\t4%\n",
    "    Hawaii\t4.166%\t4.712%\n",
    "    Idaho\t6%\t8.5%\t\t\t[41]\n",
    "    Illinois\t6.25%\t10.25%\t1%+\t8.25%+\t1%+\t1%+\n",
    "    Indiana\t7%\t7%\t\t9% (max)\n",
    "    Iowa[42]\t6%\t7%\n",
    "    Kansas\t6.5%\t10.15%\n",
    "    Kentucky\t6%\t6%\n",
    "    Louisiana\t5%\t12%\t7.0% (max)\n",
    "    Maine\t5.5%\t5.5%\t\t8%\n",
    "    Maryland\t6%\t6%\n",
    "    Massachusetts\t6.25%\t6.25%\t\t7% (max)\t\t\t> $175\n",
    "    Michigan\t6%\t6%\n",
    "    Minnesota\t6.875%\t7.875%\t\t10.775% (max)\n",
    "    Mississippi\t7%\t7.25%\n",
    "    Missouri\t4.225%\t10.85%\t1.225%\n",
    "    Montana\t0%\t0%\n",
    "    Nebraska\t5.5%\t7.5%\t\t9.5%\n",
    "    (Omaha)\n",
    "    Nevada\t6.85%\t8.25%\n",
    "    New Hampshire\t0%\t0%\t\t9%\n",
    "    New Jersey\t6.625%\t12.875%\n",
    "    New Mexico\t5.125%\t8.688%\n",
    "    New York\t4%\t8.875%\t\t\t\t\t> $110\n",
    "    North Carolina\t4.75%\t7.50%\t2%\t8.50% (max)\n",
    "    North Dakota [43]\t5%\t8%\n",
    "    Ohio[44]\t5.75%\t8%\t\tDine-in\n",
    "    Oklahoma\t4.5%\t11%\n",
    "    Oregon\t0%\t0%\n",
    "    Pennsylvania\t6%\t8%\n",
    "    Puerto Rico\t10.5%\t11.5%\t1%\n",
    "    Rhode Island\t7%\t7%\t\t8%\n",
    "    South Carolina\t6%\t9%\t\t10.5%\n",
    "    South Dakota\t4%\t6%\n",
    "    Tennessee\t7%\t9.75%\t4%+\n",
    "    Texas\t6.25%\t8.25%\n",
    "    Utah\t5.95%\t8.35%\t3%\n",
    "    Vermont\t6%\t7%\t\t9%+\t\t\t> $110\n",
    "    Virginia\t5.3%\t6%\t2.5%\t5.3%+\n",
    "    Washington\t6.5%\t10.4%\t\t10% (max)\n",
    "    West Virginia\t6%\t7%\n",
    "    Wisconsin\t5%\t6.75%\n",
    "    Wyoming\t4%\t6%\n",
    "\"\"\""
   ]
  },
  {
   "cell_type": "code",
   "execution_count": 38,
   "metadata": {},
   "outputs": [
    {
     "name": "stdout",
     "output_type": "stream",
     "text": [
      "{'    Alabama': 0.04, '    Alaska': 0.0, '    Arizona': 0.055999999999999994, '    Arkansas': 0.065, '    California': 0.0725, '    Colorado': 0.028999999999999998, '    Connecticut': 0.0635, '    Delaware': 0.0, '    District of Columbia': 0.0575, '    Florida': 0.06, '    Georgia': 0.04, '    Guam': 0.04, '    Hawaii': 0.04166, '    Idaho': 0.06, '    Illinois': 0.0625, '    Indiana': 0.07, '    Iowa[42]': 0.06, '    Kansas': 0.065, '    Kentucky': 0.06, '    Louisiana': 0.05, '    Maine': 0.055, '    Maryland': 0.06, '    Massachusetts': 0.0625, '    Michigan': 0.06, '    Minnesota': 0.06875, '    Mississippi': 0.07, '    Missouri': 0.042249999999999996, '    Montana': 0.0, '    Nebraska': 0.055, '    Nevada': 0.06849999999999999, '    New Hampshire': 0.0, '    New Jersey': 0.06625, '    New Mexico': 0.05125, '    New York': 0.04, '    North Carolina': 0.0475, '    North Dakota [43]': 0.05, '    Ohio[44]': 0.0575, '    Oklahoma': 0.045, '    Oregon': 0.0, '    Pennsylvania': 0.06, '    Puerto Rico': 0.105, '    Rhode Island': 0.07, '    South Carolina': 0.06, '    South Dakota': 0.04, '    Tennessee': 0.07, '    Texas': 0.0625, '    Utah': 0.059500000000000004, '    Vermont': 0.06, '    Virginia': 0.053, '    Washington': 0.065, '    West Virginia': 0.06, '    Wisconsin': 0.05, '    Wyoming': 0.04}\n"
     ]
    }
   ],
   "source": [
    "taxes = {}\n",
    "for line in data.split(\"\\n\"):\n",
    "    if len(line) < 2:\n",
    "        continue\n",
    "    if \"Omaha\" in line:\n",
    "        continue\n",
    "    state = line.split(\"\\t\")[0]\n",
    "    tax = float(line.split(\"\\t\")[1][:-1])/100\n",
    "    taxes[state] = tax\n",
    "print(taxes)"
   ]
  },
  {
   "cell_type": "code",
   "execution_count": 39,
   "metadata": {},
   "outputs": [
    {
     "name": "stdout",
     "output_type": "stream",
     "text": [
      "0.0725\n"
     ]
    }
   ],
   "source": [
    "state = '    California'\n",
    "print(taxes[state])"
   ]
  },
  {
   "cell_type": "code",
   "execution_count": null,
   "metadata": {},
   "outputs": [],
   "source": [
    "#Now we need to know if the client was happy or not by the service. (will impact the bill)"
   ]
  },
  {
   "cell_type": "code",
   "execution_count": 44,
   "metadata": {},
   "outputs": [
    {
     "name": "stdout",
     "output_type": "stream",
     "text": [
      "tip is:  0.2\n"
     ]
    }
   ],
   "source": [
    "#Methode cut\n",
    "\n",
    "finalTip = \"average\"\n",
    "for k in tips.keys():\n",
    "    if k in tip.lower():\n",
    "        finalTip = tips[k]\n",
    "        break\n",
    "print(\"tip is: \",finalTip)\n"
   ]
  }
 ],
 "metadata": {
  "kernelspec": {
   "display_name": "Python 3",
   "language": "python",
   "name": "python3"
  },
  "language_info": {
   "codemirror_mode": {
    "name": "ipython",
    "version": 3
   },
   "file_extension": ".py",
   "mimetype": "text/x-python",
   "name": "python",
   "nbconvert_exporter": "python",
   "pygments_lexer": "ipython3",
   "version": "3.7.0"
  }
 },
 "nbformat": 4,
 "nbformat_minor": 2
}
